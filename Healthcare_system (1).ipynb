{
  "nbformat": 4,
  "nbformat_minor": 0,
  "metadata": {
    "colab": {
      "provenance": []
    },
    "kernelspec": {
      "name": "python3",
      "display_name": "Python 3"
    },
    "language_info": {
      "name": "python"
    }
  },
  "cells": [
    {
      "cell_type": "markdown",
      "source": [
        "# **AI Doctor: Virtual Symptom Checker and Treatment Guide**\n",
        "\n",
        "AI Doctor is a virtual healthcare assistant powered by AI, designed to help users check their symptoms, receive possible diagnoses, and get medication suggestions based on their input. It also allows users to upload medical reports (PDFs, images, or CSV files) for further analysis. This project uses Generative AI, natural language processing, and OCR technologies to offer an interactive and user-friendly healthcare experience.\n"
      ],
      "metadata": {
        "id": "zC5KnBmuj3D3"
      }
    },
    {
      "cell_type": "markdown",
      "source": [
        "# Install necessary Libraries"
      ],
      "metadata": {
        "id": "ZZwYXSGzeDOD"
      }
    },
    {
      "cell_type": "code",
      "source": [
        "!pip install google-generativeai\n"
      ],
      "metadata": {
        "colab": {
          "base_uri": "https://localhost:8080/"
        },
        "id": "dpy1B2zVN4Ig",
        "outputId": "8fde5080-6be1-40a2-9653-ac3745c955aa"
      },
      "execution_count": 138,
      "outputs": [
        {
          "output_type": "stream",
          "name": "stdout",
          "text": [
            "Requirement already satisfied: google-generativeai in /usr/local/lib/python3.11/dist-packages (0.8.4)\n",
            "Requirement already satisfied: google-ai-generativelanguage==0.6.15 in /usr/local/lib/python3.11/dist-packages (from google-generativeai) (0.6.15)\n",
            "Requirement already satisfied: google-api-core in /usr/local/lib/python3.11/dist-packages (from google-generativeai) (2.19.2)\n",
            "Requirement already satisfied: google-api-python-client in /usr/local/lib/python3.11/dist-packages (from google-generativeai) (2.155.0)\n",
            "Requirement already satisfied: google-auth>=2.15.0 in /usr/local/lib/python3.11/dist-packages (from google-generativeai) (2.27.0)\n",
            "Requirement already satisfied: protobuf in /usr/local/lib/python3.11/dist-packages (from google-generativeai) (4.25.6)\n",
            "Requirement already satisfied: pydantic in /usr/local/lib/python3.11/dist-packages (from google-generativeai) (2.10.6)\n",
            "Requirement already satisfied: tqdm in /usr/local/lib/python3.11/dist-packages (from google-generativeai) (4.67.1)\n",
            "Requirement already satisfied: typing-extensions in /usr/local/lib/python3.11/dist-packages (from google-generativeai) (4.12.2)\n",
            "Requirement already satisfied: proto-plus<2.0.0dev,>=1.22.3 in /usr/local/lib/python3.11/dist-packages (from google-ai-generativelanguage==0.6.15->google-generativeai) (1.26.0)\n",
            "Requirement already satisfied: googleapis-common-protos<2.0.dev0,>=1.56.2 in /usr/local/lib/python3.11/dist-packages (from google-api-core->google-generativeai) (1.66.0)\n",
            "Requirement already satisfied: requests<3.0.0.dev0,>=2.18.0 in /usr/local/lib/python3.11/dist-packages (from google-api-core->google-generativeai) (2.32.3)\n",
            "Requirement already satisfied: cachetools<6.0,>=2.0.0 in /usr/local/lib/python3.11/dist-packages (from google-auth>=2.15.0->google-generativeai) (5.5.1)\n",
            "Requirement already satisfied: pyasn1-modules>=0.2.1 in /usr/local/lib/python3.11/dist-packages (from google-auth>=2.15.0->google-generativeai) (0.4.1)\n",
            "Requirement already satisfied: rsa<5,>=3.1.4 in /usr/local/lib/python3.11/dist-packages (from google-auth>=2.15.0->google-generativeai) (4.9)\n",
            "Requirement already satisfied: httplib2<1.dev0,>=0.19.0 in /usr/local/lib/python3.11/dist-packages (from google-api-python-client->google-generativeai) (0.22.0)\n",
            "Requirement already satisfied: google-auth-httplib2<1.0.0,>=0.2.0 in /usr/local/lib/python3.11/dist-packages (from google-api-python-client->google-generativeai) (0.2.0)\n",
            "Requirement already satisfied: uritemplate<5,>=3.0.1 in /usr/local/lib/python3.11/dist-packages (from google-api-python-client->google-generativeai) (4.1.1)\n",
            "Requirement already satisfied: annotated-types>=0.6.0 in /usr/local/lib/python3.11/dist-packages (from pydantic->google-generativeai) (0.7.0)\n",
            "Requirement already satisfied: pydantic-core==2.27.2 in /usr/local/lib/python3.11/dist-packages (from pydantic->google-generativeai) (2.27.2)\n",
            "Requirement already satisfied: grpcio<2.0dev,>=1.33.2 in /usr/local/lib/python3.11/dist-packages (from google-api-core[grpc]!=2.0.*,!=2.1.*,!=2.10.*,!=2.2.*,!=2.3.*,!=2.4.*,!=2.5.*,!=2.6.*,!=2.7.*,!=2.8.*,!=2.9.*,<3.0.0dev,>=1.34.1->google-ai-generativelanguage==0.6.15->google-generativeai) (1.70.0)\n",
            "Requirement already satisfied: grpcio-status<2.0.dev0,>=1.33.2 in /usr/local/lib/python3.11/dist-packages (from google-api-core[grpc]!=2.0.*,!=2.1.*,!=2.10.*,!=2.2.*,!=2.3.*,!=2.4.*,!=2.5.*,!=2.6.*,!=2.7.*,!=2.8.*,!=2.9.*,<3.0.0dev,>=1.34.1->google-ai-generativelanguage==0.6.15->google-generativeai) (1.62.3)\n",
            "Requirement already satisfied: pyparsing!=3.0.0,!=3.0.1,!=3.0.2,!=3.0.3,<4,>=2.4.2 in /usr/local/lib/python3.11/dist-packages (from httplib2<1.dev0,>=0.19.0->google-api-python-client->google-generativeai) (3.2.1)\n",
            "Requirement already satisfied: pyasn1<0.7.0,>=0.4.6 in /usr/local/lib/python3.11/dist-packages (from pyasn1-modules>=0.2.1->google-auth>=2.15.0->google-generativeai) (0.6.1)\n",
            "Requirement already satisfied: charset-normalizer<4,>=2 in /usr/local/lib/python3.11/dist-packages (from requests<3.0.0.dev0,>=2.18.0->google-api-core->google-generativeai) (3.4.1)\n",
            "Requirement already satisfied: idna<4,>=2.5 in /usr/local/lib/python3.11/dist-packages (from requests<3.0.0.dev0,>=2.18.0->google-api-core->google-generativeai) (3.10)\n",
            "Requirement already satisfied: urllib3<3,>=1.21.1 in /usr/local/lib/python3.11/dist-packages (from requests<3.0.0.dev0,>=2.18.0->google-api-core->google-generativeai) (2.3.0)\n",
            "Requirement already satisfied: certifi>=2017.4.17 in /usr/local/lib/python3.11/dist-packages (from requests<3.0.0.dev0,>=2.18.0->google-api-core->google-generativeai) (2024.12.14)\n"
          ]
        }
      ]
    },
    {
      "cell_type": "code",
      "source": [
        "!pip install PyPDF2"
      ],
      "metadata": {
        "colab": {
          "base_uri": "https://localhost:8080/"
        },
        "id": "4cXBpbfqVNAi",
        "outputId": "a18fd599-47c5-41ba-b9bd-a0975c66628e"
      },
      "execution_count": 159,
      "outputs": [
        {
          "output_type": "stream",
          "name": "stdout",
          "text": [
            "Collecting PyPDF2\n",
            "  Downloading pypdf2-3.0.1-py3-none-any.whl.metadata (6.8 kB)\n",
            "Downloading pypdf2-3.0.1-py3-none-any.whl (232 kB)\n",
            "\u001b[?25l   \u001b[90m━━━━━━━━━━━━━━━━━━━━━━━━━━━━━━━━━━━━━━━━\u001b[0m \u001b[32m0.0/232.6 kB\u001b[0m \u001b[31m?\u001b[0m eta \u001b[36m-:--:--\u001b[0m\r\u001b[2K   \u001b[91m━━━━━━━━━━━━━━━━━\u001b[0m\u001b[91m╸\u001b[0m\u001b[90m━━━━━━━━━━━━━━━━━━━━━━\u001b[0m \u001b[32m102.4/232.6 kB\u001b[0m \u001b[31m2.8 MB/s\u001b[0m eta \u001b[36m0:00:01\u001b[0m\r\u001b[2K   \u001b[90m━━━━━━━━━━━━━━━━━━━━━━━━━━━━━━━━━━━━━━━━\u001b[0m \u001b[32m232.6/232.6 kB\u001b[0m \u001b[31m3.9 MB/s\u001b[0m eta \u001b[36m0:00:00\u001b[0m\n",
            "\u001b[?25hInstalling collected packages: PyPDF2\n",
            "Successfully installed PyPDF2-3.0.1\n"
          ]
        }
      ]
    },
    {
      "cell_type": "code",
      "source": [
        "!pip install pytesseract"
      ],
      "metadata": {
        "colab": {
          "base_uri": "https://localhost:8080/"
        },
        "id": "L8c6aqJWVSUO",
        "outputId": "247937ec-4d31-4e78-be22-5cdb3e1412ea"
      },
      "execution_count": 161,
      "outputs": [
        {
          "output_type": "stream",
          "name": "stdout",
          "text": [
            "Collecting pytesseract\n",
            "  Downloading pytesseract-0.3.13-py3-none-any.whl.metadata (11 kB)\n",
            "Requirement already satisfied: packaging>=21.3 in /usr/local/lib/python3.11/dist-packages (from pytesseract) (24.2)\n",
            "Requirement already satisfied: Pillow>=8.0.0 in /usr/local/lib/python3.11/dist-packages (from pytesseract) (11.1.0)\n",
            "Downloading pytesseract-0.3.13-py3-none-any.whl (14 kB)\n",
            "Installing collected packages: pytesseract\n",
            "Successfully installed pytesseract-0.3.13\n"
          ]
        }
      ]
    },
    {
      "cell_type": "markdown",
      "source": [
        "# Import Required libraries"
      ],
      "metadata": {
        "id": "bnXgC6OpeIyd"
      }
    },
    {
      "cell_type": "code",
      "source": [
        "import os\n",
        "import google.generativeai as genai\n",
        "import PyPDF2\n",
        "import pandas as pd\n",
        "import pytesseract\n",
        "from PIL import Image\n",
        "from google.colab import files"
      ],
      "metadata": {
        "id": "-BK94RX8R2Vt"
      },
      "execution_count": 175,
      "outputs": []
    },
    {
      "cell_type": "markdown",
      "source": [
        "* os - For file path handling\n",
        "*  google.generativeai as genai  - For interacting with Google's generative AI model\n",
        "* PyPDF2  - For reading and extracting text from PDF files\n",
        "* pandas as pd - For handling CSV data\n",
        "* pytesseract -  For Optical Character Recognition (OCR) to extract text from images\n",
        "* from PIL import Image -  For handling image files and OCR processing\n"
      ],
      "metadata": {
        "id": "1Or46SppeO3x"
      }
    },
    {
      "cell_type": "code",
      "source": [
        "# Install Tesseract OCR software, required by pytesseract\n",
        "!apt-get install tesseract-ocr\n"
      ],
      "metadata": {
        "colab": {
          "base_uri": "https://localhost:8080/"
        },
        "id": "_ASHk5aCJzcC",
        "outputId": "3c5f07c1-ceef-46e6-e32d-3ac4dc5ebad2"
      },
      "execution_count": 198,
      "outputs": [
        {
          "output_type": "stream",
          "name": "stdout",
          "text": [
            "Reading package lists... Done\n",
            "Building dependency tree... Done\n",
            "Reading state information... Done\n",
            "The following additional packages will be installed:\n",
            "  tesseract-ocr-eng tesseract-ocr-osd\n",
            "The following NEW packages will be installed:\n",
            "  tesseract-ocr tesseract-ocr-eng tesseract-ocr-osd\n",
            "0 upgraded, 3 newly installed, 0 to remove and 18 not upgraded.\n",
            "Need to get 4,816 kB of archives.\n",
            "After this operation, 15.6 MB of additional disk space will be used.\n",
            "Get:1 http://archive.ubuntu.com/ubuntu jammy/universe amd64 tesseract-ocr-eng all 1:4.00~git30-7274cfa-1.1 [1,591 kB]\n",
            "Get:2 http://archive.ubuntu.com/ubuntu jammy/universe amd64 tesseract-ocr-osd all 1:4.00~git30-7274cfa-1.1 [2,990 kB]\n",
            "Get:3 http://archive.ubuntu.com/ubuntu jammy/universe amd64 tesseract-ocr amd64 4.1.1-2.1build1 [236 kB]\n",
            "Fetched 4,816 kB in 0s (13.3 MB/s)\n",
            "Selecting previously unselected package tesseract-ocr-eng.\n",
            "(Reading database ... 124926 files and directories currently installed.)\n",
            "Preparing to unpack .../tesseract-ocr-eng_1%3a4.00~git30-7274cfa-1.1_all.deb ...\n",
            "Unpacking tesseract-ocr-eng (1:4.00~git30-7274cfa-1.1) ...\n",
            "Selecting previously unselected package tesseract-ocr-osd.\n",
            "Preparing to unpack .../tesseract-ocr-osd_1%3a4.00~git30-7274cfa-1.1_all.deb ...\n",
            "Unpacking tesseract-ocr-osd (1:4.00~git30-7274cfa-1.1) ...\n",
            "Selecting previously unselected package tesseract-ocr.\n",
            "Preparing to unpack .../tesseract-ocr_4.1.1-2.1build1_amd64.deb ...\n",
            "Unpacking tesseract-ocr (4.1.1-2.1build1) ...\n",
            "Setting up tesseract-ocr-eng (1:4.00~git30-7274cfa-1.1) ...\n",
            "Setting up tesseract-ocr-osd (1:4.00~git30-7274cfa-1.1) ...\n",
            "Setting up tesseract-ocr (4.1.1-2.1build1) ...\n",
            "Processing triggers for man-db (2.10.2-1) ...\n"
          ]
        }
      ]
    },
    {
      "cell_type": "code",
      "source": [
        "# Set the path for the Tesseract OCR executable to enable text extraction from images\n",
        "import pytesseract\n",
        "from PIL import Image\n",
        "\n",
        "# Make sure Tesseract is installed and provide the path to it\n",
        "pytesseract.pytesseract.tesseract_cmd = '/usr/bin/tesseract'\n"
      ],
      "metadata": {
        "id": "8Oz1z_PwbWK7"
      },
      "execution_count": 199,
      "outputs": []
    },
    {
      "cell_type": "code",
      "source": [
        "#Configure Google Generative API key\n",
        "genai.configure(api_key=\"Use API KEY\")\n",
        "\n"
      ],
      "metadata": {
        "id": "ApWvMHvER5hj"
      },
      "execution_count": 208,
      "outputs": []
    },
    {
      "cell_type": "code",
      "source": [
        "# Model Configuration\n",
        "generation_config = {\n",
        "  \"temperature\": 0.5, # Controls the randomness of the output (0.0 to 1.0)\n",
        "  \"top_p\": 0.95, # Top-p sampling for controlling diversity in responses\n",
        "  \"top_k\": 40, # Top-k sampling to limit response options\n",
        "  \"max_output_tokens\": 8192,  # Maximum number of tokens (words or word pieces) to generate\n",
        "}\n",
        "\n",
        "model = genai.GenerativeModel(\n",
        "  model_name=\"gemini-1.5-pro-latest\",  # Use the latest version for potentially better performance\n",
        "  generation_config=generation_config,\n",
        ")\n",
        "# Start a chat session with the model to hold a conversation\n",
        "chat_session = model.start_chat(history=[])"
      ],
      "metadata": {
        "id": "nWcRdSa_6Uhs"
      },
      "execution_count": 209,
      "outputs": []
    },
    {
      "cell_type": "code",
      "source": [
        "# Function to get the response from the model\n",
        "def get_gemini_response(prompt):\n",
        "  response = chat_session.send_message(prompt) # Send prompt to the model\n",
        "  return response.text  # Return the model's response as text\n"
      ],
      "metadata": {
        "id": "J3Zn0BbA-lAJ"
      },
      "execution_count": 210,
      "outputs": []
    },
    {
      "cell_type": "markdown",
      "source": [
        "# Images or pdf extraction\n"
      ],
      "metadata": {
        "id": "iCeiUXp2VlFY"
      }
    },
    {
      "cell_type": "code",
      "source": [
        "def extract_pdf_text(file_path):\n",
        "    try:\n",
        "        with open(file_path, 'rb') as file:  # Open PDF file in read-binary mode\n",
        "            reader = PyPDF2.PdfReader(file)  # Read the PDF\n",
        "            text = \"\"\n",
        "            for page in reader.pages:  # Loop through each page of the PDF\n",
        "                text += page.extract_text()  # Extract text from each page\n",
        "        return text  # Return the extracted text\n",
        "    except Exception as e:  # Handle any exceptions (e.g., file errors)\n",
        "        return str(e)  # Return the error message\n"
      ],
      "metadata": {
        "id": "LhyOTe4jVeXL"
      },
      "execution_count": 211,
      "outputs": []
    },
    {
      "cell_type": "code",
      "source": [
        "# Function to extract text from images (e.g., scanned reports) using pytesseract\n",
        "def extract_image_text(file_path):\n",
        "    try:\n",
        "        img = Image.open(file_path)  # Open the image file\n",
        "        text = pytesseract.image_to_string(img)  # Extract text using OCR\n",
        "        return text  # Return the extracted text\n",
        "    except Exception as e:  # Handle errors\n",
        "        return str(e)  # Return error message\n"
      ],
      "metadata": {
        "id": "zQXXenmeVp4w"
      },
      "execution_count": 212,
      "outputs": []
    },
    {
      "cell_type": "code",
      "source": [
        "# Function to extract data from CSV files using pandas\n",
        "def extract_csv_data(file_path):\n",
        "    try:\n",
        "        df = pd.read_csv(file_path)  # Read the CSV file into a DataFrame\n",
        "        return df.head()  # Return the first few rows of the data (for quick preview)\n",
        "    except Exception as e:  # Handle errors\n",
        "        return str(e)  # Return the error message\n"
      ],
      "metadata": {
        "id": "rhP6LZ_oXNq4"
      },
      "execution_count": 213,
      "outputs": []
    },
    {
      "cell_type": "markdown",
      "source": [
        "# Symptom check"
      ],
      "metadata": {
        "id": "NDH1Wm-dfcle"
      }
    },
    {
      "cell_type": "code",
      "source": [
        "# Symptom Checker - Function to interact with the user and suggest possible diagnoses\n",
        "def symptom_checker(symptoms_input):\n",
        "    prompt = f\"\"\"Given the following symptoms: {symptoms_input},\n",
        "                 suggest possible medical conditions. After listing possible conditions and severe symptoms,\n",
        "                 **engage the user by asking 3-5 specific, targeted questions** to gather more information about their symptoms and health history.\n",
        "                 This interaction should help to narrow down the potential diagnoses.\n",
        "                 Phrase the questions in a friendly, professional, and empathetic tone, as if a doctor were speaking directly to the patient.\n",
        "                 Conclude by emphasizing the importance of monitoring symptoms and seeking medical attention if necessary.\n",
        "                 Use markdown **headings** and **underlining** for highlighting key points.\n",
        "                 Add relevant emojis to make the conversation more engaging 😊.\n",
        "                 \"\"\"\n",
        "    response = get_gemini_response(prompt) # Send the symptom details to the model\n",
        "    return response # Return the model's diagnosis response\n"
      ],
      "metadata": {
        "id": "iQyLp-UE_iKa"
      },
      "execution_count": 214,
      "outputs": []
    },
    {
      "cell_type": "markdown",
      "source": [
        "# Prescribe medication or treatment based on the diagnosis"
      ],
      "metadata": {
        "id": "wRY-XAyEfu3N"
      }
    },
    {
      "cell_type": "code",
      "source": [
        "# Prescribe Medication - Function to suggest medications based on diagnosis\n",
        "def prescribe_medication(diagnosis):\n",
        "    prompt = f\"\"\"Based on the diagnosis: {diagnosis},\n",
        "                 suggest possible medications, treatments, and any lifestyle changes.\n",
        "                 **Please list the treatments in bullet points**,\n",
        "                 **underline any critical medication**, and summarize the next steps for the patient.\n",
        "                 Add emojis to represent the mood (e.g.,💊 for medication, 🏥 for hospital visits).\n",
        "                 \"\"\"\n",
        "    response = get_gemini_response(prompt)  # Send the diagnosis to the model for medication suggestions\n",
        "    return response  # Return the medication or treatment suggestions"
      ],
      "metadata": {
        "id": "y5gn4HfR_7dC"
      },
      "execution_count": 215,
      "outputs": []
    },
    {
      "cell_type": "markdown",
      "source": [
        "# Ask the user follow-up questions to gather more symptoms or concerns"
      ],
      "metadata": {
        "id": "my5r7q3Af16I"
      }
    },
    {
      "cell_type": "code",
      "source": [
        "# Ask Follow-Up - Function to interact with the user for follow-up questions\n",
        "def ask_follow_up():\n",
        "    follow_up_prompt = f\"\"\"Can you share more symptoms or ask any questions related to your health?\n",
        "                           I'm here to help. I can also summarize any treatments or diagnoses.\n",
        "                           **Please respond with more details or follow-up questions**.\n",
        "                           Add friendly emojis like 🤔 for pondering and 🩺 for medical-related questions.\n",
        "                           \"\"\"\n",
        "    response = get_gemini_response(follow_up_prompt) # Send the follow-up prompt to the model\n",
        "    return response # Return the model's follow-up response"
      ],
      "metadata": {
        "id": "DHTgOpflAIvB"
      },
      "execution_count": 216,
      "outputs": []
    },
    {
      "cell_type": "markdown",
      "source": [
        "# Simulate the process of uploading a medical report file (PDF, image, or CSV)"
      ],
      "metadata": {
        "id": "cfI2hrynf7iR"
      }
    },
    {
      "cell_type": "code",
      "source": [
        "# Function to simulate a file upload process\n",
        "def upload_report():\n",
        "    uploaded = files.upload()  # Open file upload dialog in Google Colab\n",
        "    if uploaded:  # If the file is uploaded successfully\n",
        "        file_path = list(uploaded.keys())[0] # Get the file path of the uploaded file\n",
        "        return file_path # Return the file path\n",
        "    return None # Return None if no file was uploaded\n",
        "\n"
      ],
      "metadata": {
        "id": "vWhf6QDPV50E"
      },
      "execution_count": 217,
      "outputs": []
    },
    {
      "cell_type": "markdown",
      "source": [
        "# Main healthcare system function to drive the workflow"
      ],
      "metadata": {
        "id": "sjnnnaWOgGLw"
      }
    },
    {
      "cell_type": "code",
      "source": [
        "# Main healthcare system function\n",
        "def run_healthcare_system():\n",
        "    print(\"# Welcome to the AI Doctor! 🩺\")  # Print welcome message\n",
        "    print(\"I'm here to assist you with your health-related questions. 🤖💬\\n\")\n",
        "\n",
        "\n",
        "    # Collect symptoms from the user for the symptom checker\n",
        "    symptoms_input = input(\"Please describe your symptoms (e.g., fever, cough, sore throat): \")\n",
        "    diagnosis = symptom_checker(symptoms_input)  # Get potential diagnosis based on symptoms\n",
        "    print(f\"\\n### Diagnosis: {diagnosis} 🤒\\n\")  # Display diagnosis result\n",
        "\n",
        "\n",
        "    # Provide medication or treatment suggestions based on the diagnosis\n",
        "    prescriptions = prescribe_medication(diagnosis) # Get medication suggestions\n",
        "    print(f\"\\n### Suggested Medications/Treatments: {prescriptions} \\n\")  # Display medication\n",
        "\n",
        "\n",
        "    # Ask the user follow-up questions about their symptoms or condition\n",
        "    follow_up = ask_follow_up()  # Get follow-up questions\n",
        "    print(follow_up) # Display follow-up responses\n",
        "\n",
        "\n",
        "\n",
        "    # Simulate file upload to analyze the medical report\n",
        "    print(\"Please upload your medical report.\")\n",
        "    file_path = upload_report() # Upload the medical report\n",
        "\n",
        "    if file_path: # If a file was uploaded successfully\n",
        "        # Extract text from the uploaded report based on the file type\n",
        "        if file_path.lower().endswith(\".pdf\"):\n",
        "            report_text = extract_pdf_text(file_path)    # Extract text from PDF\n",
        "        elif file_path.lower().endswith(('.png', '.jpg', '.jpeg')):\n",
        "            report_text = extract_image_text(file_path)  # Extract text from image\n",
        "        elif file_path.lower().endswith(\".csv\"):\n",
        "            report_text = extract_csv_data(file_path)    # Extract data from CSV\n",
        "        else:\n",
        "            print(\"Unsupported file format. Please try again with a valid report format.\")\n",
        "            return\n",
        "\n",
        "        if report_text:  # If text was successfully extracted from the report\n",
        "            print(\"\\n### Analyzing your report... 🩸\\n\")   # Get analysis from the model\n",
        "            diagnosis_from_report = get_gemini_response(f\"Analyze the following medical report and provide a diagnosis: {report_text}\")\n",
        "            print(f\"### Report Diagnosis and Recommendations: {diagnosis_from_report} 🤒💊\\n\")  # Display analysis result\n",
        "\n",
        "        else:\n",
        "            print(\"Failed to extract data from the report. Please check the file and try again. 📄🚫\\n\")  # If extraction fails\n",
        "    else:\n",
        "        print(\"No file selected. Please try again. ❌\")   # If no file is uploaded\n",
        "\n",
        "\n",
        "    # Allow the user to ask more questions or symptoms\n",
        "    while True:\n",
        "        more_questions = input(\"Do you have any more questions or symptoms to discuss? (yes/no): \").strip().lower()\n",
        "        if more_questions == 'yes':\n",
        "            chat_input = input(\"Please ask your question: \")  # User asks a new question\n",
        "            response = get_gemini_response(chat_input)        # Get the response from the model\n",
        "            print(f\"\\n### AI Doctor: {response} 🤖🩺\\n\")     # Display the response\n",
        "        elif more_questions == 'no':\n",
        "            print(\"Thank you for using the AI Doctor. Stay healthy! 😊👋\")   # Thank the user if no more question\n",
        "            break  # End the loop\n",
        "        else:\n",
        "            print(\"Please respond with 'yes' or 'no'.\")"
      ],
      "metadata": {
        "id": "FPKPC62yJttt"
      },
      "execution_count": 218,
      "outputs": []
    },
    {
      "cell_type": "code",
      "source": [
        "# Run the healthcare system\n",
        "if __name__ == \"__main__\":\n",
        "    run_healthcare_system() # Start the healthcare system function"
      ],
      "metadata": {
        "colab": {
          "base_uri": "https://localhost:8080/",
          "height": 1000
        },
        "id": "IvqRHdGlB9Pc",
        "outputId": "aff187c6-9a82-4f3c-c1b8-8177ba48e5bd"
      },
      "execution_count": 220,
      "outputs": [
        {
          "output_type": "stream",
          "name": "stdout",
          "text": [
            "# Welcome to the AI Doctor! 🩺\n",
            "I'm here to assist you with your health-related questions. 🤖💬\n",
            "\n",
            "Please describe your symptoms (e.g., fever, cough, sore throat): Throat infection\n",
            "\n",
            "### Diagnosis: ## Possible Medical Conditions Related to Throat Infection 🤔\n",
            "\n",
            "A throat infection can manifest in various ways, and several conditions could be the underlying cause:\n",
            "\n",
            "* **Pharyngitis (Sore Throat):** This is a common inflammation of the pharynx, often caused by viral or bacterial infections.\n",
            "* **Tonsillitis:**  Inflammation and infection of the tonsils, often caused by bacteria like Streptococcus (strep throat).\n",
            "* **Laryngitis:** Inflammation of the larynx (voice box), often leading to hoarseness or voice loss.\n",
            "* **Epiglottitis:** A rare but serious infection of the epiglottis (the flap of tissue that covers the windpipe), which can obstruct breathing.\n",
            "* **Mononucleosis (Mono):**  Often called the \"kissing disease,\" this viral infection can cause a severe sore throat, fatigue, and swollen lymph nodes.\n",
            "* **Peritonsillar Abscess:** A collection of pus behind the tonsils, often a complication of tonsillitis.\n",
            "\n",
            "\n",
            "## Severe Symptoms Requiring Immediate Medical Attention 🚨\n",
            "\n",
            "* **Difficulty breathing or swallowing**\n",
            "* **Severe throat pain**\n",
            "* **High fever (over 103°F/39.4°C)**\n",
            "* **Drooling (especially in children)**\n",
            "* **Muffled voice**\n",
            "* **Stiff neck**\n",
            "* **Swelling in the neck or face**\n",
            "\n",
            "\n",
            "## Let's Gather Some More Information 🧑‍⚕️\n",
            "\n",
            "To better understand what's causing your throat infection, I'd like to ask you a few questions:\n",
            "\n",
            "1. Could you describe the nature of your throat pain? Is it scratchy, burning, or a dull ache?  On a scale of 1-10, with 10 being the worst pain imaginable, how would you rate it? 🗣️🌡️\n",
            "2. Do you have any other symptoms besides the throat infection, such as fever, cough, runny nose, body aches, fatigue, or swollen glands?  🧐\n",
            "3. Have you noticed any difficulty swallowing or breathing?  Are you able to eat and drink comfortably?  Does it hurt more to swallow solids or liquids?  🌬️\n",
            "4. Have you been in close contact with anyone who has been sick recently? 😷\n",
            "5. Do you have any known allergies or underlying health conditions? 🩺\n",
            "\n",
            "\n",
            "## Monitoring and Next Steps 🗓️\n",
            "\n",
            "It's essential to monitor your symptoms closely.  Stay hydrated by drinking plenty of fluids, and consider over-the-counter pain relievers or throat lozenges to manage your discomfort. 😊\n",
            "\n",
            "<u>If your symptoms worsen or you experience any of the severe symptoms listed above, please seek immediate medical attention.</u>  A proper diagnosis is crucial for determining the appropriate treatment. ❤️  We can discuss further treatment options once we have a clearer picture of what's causing your throat infection.  I'm here to support you through this.  Feel free to ask any further questions you may have. 👍\n",
            " 🤒\n",
            "\n",
            "\n",
            "### Suggested Medications/Treatments: It's important to remember that I cannot provide medical advice or prescribe medications.  A proper diagnosis and treatment plan must come from a qualified healthcare professional. However, based on the potential conditions listed, I can offer some general information about possible treatments and lifestyle changes:\n",
            "\n",
            "## Possible Treatments and Lifestyle Changes 💊🏥\n",
            "\n",
            "**For Pharyngitis (Sore Throat):**\n",
            "\n",
            "*   Rest and fluids are essential. 🛌💧\n",
            "*   Over-the-counter pain relievers and throat lozenges can help soothe throat pain. 💊\n",
            "*   Gargling with warm salt water can provide relief.\n",
            "*   If the sore throat is caused by a bacterial infection (like strep throat), <u>antibiotics</u> will be necessary.  These require a prescription.💊\n",
            "\n",
            "\n",
            "**For Tonsillitis:**\n",
            "\n",
            "*   Rest and fluids are crucial. 🛌💧\n",
            "*   Over-the-counter pain relievers can help manage pain and fever. 💊\n",
            "*   If caused by a bacterial infection, <u>antibiotics</u> are necessary. 💊\n",
            "*   In cases of recurrent or severe tonsillitis, tonsillectomy (surgical removal of the tonsils) might be considered. 🏥\n",
            "\n",
            "\n",
            "**For Laryngitis:**\n",
            "\n",
            "*   Rest your voice as much as possible. 🤫\n",
            "*   Drink plenty of fluids. 💧\n",
            "*   Avoid irritants like smoke and alcohol. 🚭\n",
            "*   A humidifier can help soothe the throat.\n",
            "*   In some cases, corticosteroids may be prescribed by a doctor to reduce inflammation. 💊\n",
            "\n",
            "\n",
            "**For Epiglottitis:**\n",
            "\n",
            "*   This is a medical emergency requiring immediate hospitalization. 🏥🚨\n",
            "*   Treatment may involve <u>antibiotics</u>, corticosteroids, and possibly intubation (inserting a breathing tube) to ensure adequate airflow. 💊\n",
            "\n",
            "\n",
            "**For Mononucleosis (Mono):**\n",
            "\n",
            "*   Rest is crucial. 🛌\n",
            "*   Plenty of fluids are important for hydration. 💧\n",
            "*   Over-the-counter pain relievers and fever reducers can help manage symptoms. 💊\n",
            "*   Avoid contact sports to prevent spleen rupture.\n",
            "\n",
            "\n",
            "**For Peritonsillar Abscess:**\n",
            "\n",
            "*   This requires urgent medical attention. 🏥\n",
            "*   Treatment typically involves drainage of the abscess, often followed by <u>antibiotics</u>. 💊\n",
            "\n",
            "\n",
            "## Next Steps 👣\n",
            "\n",
            "1. **Consult a Doctor:**  It's crucial to see a doctor or healthcare provider to get a proper diagnosis and personalized treatment plan.  Self-treating can be risky and may delay appropriate care. 🏥🧑‍⚕️\n",
            "2. **Monitor Your Symptoms:** Keep a close eye on your symptoms and note any changes.  If your symptoms worsen or you develop any of the severe symptoms mentioned earlier, seek immediate medical attention. 🚨\n",
            "3. **Follow Medical Advice:** If you receive a diagnosis and treatment plan, adhere to your doctor's instructions carefully. Take medications as prescribed and attend any follow-up appointments.  🗓️\n",
            "4. **Focus on Rest and Hydration:** Regardless of the cause of your throat infection, getting enough rest and staying well-hydrated will aid in your recovery. 🛌💧\n",
            "\n",
            "Take care, and don't hesitate to reach out if you have further questions or concerns. ❤️\n",
            "\n",
            "\n",
            " \n",
            "\n",
            "To help me understand your throat infection better and offer more relevant information, I need some more details.  Let's delve a little deeper into your symptoms. 🤔\n",
            "\n",
            "Here are some follow-up questions:\n",
            "\n",
            "1. **Onset and Duration:** When did your throat infection start? Has it been getting progressively worse, or has it stayed about the same? 🗓️\n",
            "2. **Pain Characteristics:** You mentioned throat pain.  Could you describe it in more detail?  Is it sharp, stabbing, scratchy, burning, or a dull ache? Does the pain worsen when you swallow, talk, or cough? 🗣️\n",
            "3. **Appearance:** Have you looked at the back of your throat in a mirror?  If so, have you noticed any redness, swelling, white spots, or pus?  Does it look different than usual?  If you can safely take a picture, that might be helpful, but don't strain yourself.  📷\n",
            "4. **Associated Symptoms:** Are you experiencing any other symptoms along with the throat infection, such as a fever, cough, runny nose, nasal congestion, ear pain, headache, body aches, fatigue, or swollen lymph nodes in your neck?  These details can help pinpoint the cause. 🤒🤧\n",
            "5. **Medical History:** Do you have any history of throat infections, tonsillitis, strep throat, or other relevant medical conditions?  Are you currently taking any medications, supplements, or herbal remedies?  Are you allergic to any medications? 🩺💊\n",
            "6. **Exposure:**  Have you been around anyone else who has been sick recently, especially with a sore throat or cold-like symptoms?  Have you been exposed to any environmental irritants, such as smoke or chemicals? 😷\n",
            "\n",
            "\n",
            "The more information you provide, the better I can understand your situation.  Don't hesitate to share even seemingly minor details.  I'm here to listen and help in any way I can.  Let's work together to figure this out! 👍\n",
            "\n",
            "Please upload your medical report.\n"
          ]
        },
        {
          "output_type": "display_data",
          "data": {
            "text/plain": [
              "<IPython.core.display.HTML object>"
            ],
            "text/html": [
              "\n",
              "     <input type=\"file\" id=\"files-acb299a4-b2fe-40cc-9917-d4b34afb66fe\" name=\"files[]\" multiple disabled\n",
              "        style=\"border:none\" />\n",
              "     <output id=\"result-acb299a4-b2fe-40cc-9917-d4b34afb66fe\">\n",
              "      Upload widget is only available when the cell has been executed in the\n",
              "      current browser session. Please rerun this cell to enable.\n",
              "      </output>\n",
              "      <script>// Copyright 2017 Google LLC\n",
              "//\n",
              "// Licensed under the Apache License, Version 2.0 (the \"License\");\n",
              "// you may not use this file except in compliance with the License.\n",
              "// You may obtain a copy of the License at\n",
              "//\n",
              "//      http://www.apache.org/licenses/LICENSE-2.0\n",
              "//\n",
              "// Unless required by applicable law or agreed to in writing, software\n",
              "// distributed under the License is distributed on an \"AS IS\" BASIS,\n",
              "// WITHOUT WARRANTIES OR CONDITIONS OF ANY KIND, either express or implied.\n",
              "// See the License for the specific language governing permissions and\n",
              "// limitations under the License.\n",
              "\n",
              "/**\n",
              " * @fileoverview Helpers for google.colab Python module.\n",
              " */\n",
              "(function(scope) {\n",
              "function span(text, styleAttributes = {}) {\n",
              "  const element = document.createElement('span');\n",
              "  element.textContent = text;\n",
              "  for (const key of Object.keys(styleAttributes)) {\n",
              "    element.style[key] = styleAttributes[key];\n",
              "  }\n",
              "  return element;\n",
              "}\n",
              "\n",
              "// Max number of bytes which will be uploaded at a time.\n",
              "const MAX_PAYLOAD_SIZE = 100 * 1024;\n",
              "\n",
              "function _uploadFiles(inputId, outputId) {\n",
              "  const steps = uploadFilesStep(inputId, outputId);\n",
              "  const outputElement = document.getElementById(outputId);\n",
              "  // Cache steps on the outputElement to make it available for the next call\n",
              "  // to uploadFilesContinue from Python.\n",
              "  outputElement.steps = steps;\n",
              "\n",
              "  return _uploadFilesContinue(outputId);\n",
              "}\n",
              "\n",
              "// This is roughly an async generator (not supported in the browser yet),\n",
              "// where there are multiple asynchronous steps and the Python side is going\n",
              "// to poll for completion of each step.\n",
              "// This uses a Promise to block the python side on completion of each step,\n",
              "// then passes the result of the previous step as the input to the next step.\n",
              "function _uploadFilesContinue(outputId) {\n",
              "  const outputElement = document.getElementById(outputId);\n",
              "  const steps = outputElement.steps;\n",
              "\n",
              "  const next = steps.next(outputElement.lastPromiseValue);\n",
              "  return Promise.resolve(next.value.promise).then((value) => {\n",
              "    // Cache the last promise value to make it available to the next\n",
              "    // step of the generator.\n",
              "    outputElement.lastPromiseValue = value;\n",
              "    return next.value.response;\n",
              "  });\n",
              "}\n",
              "\n",
              "/**\n",
              " * Generator function which is called between each async step of the upload\n",
              " * process.\n",
              " * @param {string} inputId Element ID of the input file picker element.\n",
              " * @param {string} outputId Element ID of the output display.\n",
              " * @return {!Iterable<!Object>} Iterable of next steps.\n",
              " */\n",
              "function* uploadFilesStep(inputId, outputId) {\n",
              "  const inputElement = document.getElementById(inputId);\n",
              "  inputElement.disabled = false;\n",
              "\n",
              "  const outputElement = document.getElementById(outputId);\n",
              "  outputElement.innerHTML = '';\n",
              "\n",
              "  const pickedPromise = new Promise((resolve) => {\n",
              "    inputElement.addEventListener('change', (e) => {\n",
              "      resolve(e.target.files);\n",
              "    });\n",
              "  });\n",
              "\n",
              "  const cancel = document.createElement('button');\n",
              "  inputElement.parentElement.appendChild(cancel);\n",
              "  cancel.textContent = 'Cancel upload';\n",
              "  const cancelPromise = new Promise((resolve) => {\n",
              "    cancel.onclick = () => {\n",
              "      resolve(null);\n",
              "    };\n",
              "  });\n",
              "\n",
              "  // Wait for the user to pick the files.\n",
              "  const files = yield {\n",
              "    promise: Promise.race([pickedPromise, cancelPromise]),\n",
              "    response: {\n",
              "      action: 'starting',\n",
              "    }\n",
              "  };\n",
              "\n",
              "  cancel.remove();\n",
              "\n",
              "  // Disable the input element since further picks are not allowed.\n",
              "  inputElement.disabled = true;\n",
              "\n",
              "  if (!files) {\n",
              "    return {\n",
              "      response: {\n",
              "        action: 'complete',\n",
              "      }\n",
              "    };\n",
              "  }\n",
              "\n",
              "  for (const file of files) {\n",
              "    const li = document.createElement('li');\n",
              "    li.append(span(file.name, {fontWeight: 'bold'}));\n",
              "    li.append(span(\n",
              "        `(${file.type || 'n/a'}) - ${file.size} bytes, ` +\n",
              "        `last modified: ${\n",
              "            file.lastModifiedDate ? file.lastModifiedDate.toLocaleDateString() :\n",
              "                                    'n/a'} - `));\n",
              "    const percent = span('0% done');\n",
              "    li.appendChild(percent);\n",
              "\n",
              "    outputElement.appendChild(li);\n",
              "\n",
              "    const fileDataPromise = new Promise((resolve) => {\n",
              "      const reader = new FileReader();\n",
              "      reader.onload = (e) => {\n",
              "        resolve(e.target.result);\n",
              "      };\n",
              "      reader.readAsArrayBuffer(file);\n",
              "    });\n",
              "    // Wait for the data to be ready.\n",
              "    let fileData = yield {\n",
              "      promise: fileDataPromise,\n",
              "      response: {\n",
              "        action: 'continue',\n",
              "      }\n",
              "    };\n",
              "\n",
              "    // Use a chunked sending to avoid message size limits. See b/62115660.\n",
              "    let position = 0;\n",
              "    do {\n",
              "      const length = Math.min(fileData.byteLength - position, MAX_PAYLOAD_SIZE);\n",
              "      const chunk = new Uint8Array(fileData, position, length);\n",
              "      position += length;\n",
              "\n",
              "      const base64 = btoa(String.fromCharCode.apply(null, chunk));\n",
              "      yield {\n",
              "        response: {\n",
              "          action: 'append',\n",
              "          file: file.name,\n",
              "          data: base64,\n",
              "        },\n",
              "      };\n",
              "\n",
              "      let percentDone = fileData.byteLength === 0 ?\n",
              "          100 :\n",
              "          Math.round((position / fileData.byteLength) * 100);\n",
              "      percent.textContent = `${percentDone}% done`;\n",
              "\n",
              "    } while (position < fileData.byteLength);\n",
              "  }\n",
              "\n",
              "  // All done.\n",
              "  yield {\n",
              "    response: {\n",
              "      action: 'complete',\n",
              "    }\n",
              "  };\n",
              "}\n",
              "\n",
              "scope.google = scope.google || {};\n",
              "scope.google.colab = scope.google.colab || {};\n",
              "scope.google.colab._files = {\n",
              "  _uploadFiles,\n",
              "  _uploadFilesContinue,\n",
              "};\n",
              "})(self);\n",
              "</script> "
            ]
          },
          "metadata": {}
        },
        {
          "output_type": "stream",
          "name": "stdout",
          "text": [
            "Saving nejmcpc1406191_t1.jpg to nejmcpc1406191_t1.jpg\n",
            "\n",
            "### Analyzing your report... 🩸\n",
            "\n",
            "### Report Diagnosis and Recommendations: The lab results suggest an **anemia** along with an active inflammatory process.  Let's break down the key findings:\n",
            "\n",
            "* **Low Hematocrit (28.4% then 27.3%):**  This indicates a reduced percentage of red blood cells in the blood, a key feature of anemia. The decreasing value is concerning and suggests ongoing blood loss or reduced production.\n",
            "* **Low Hemoglobin (9.3 g/dl then 8.8 g/dl):**  Hemoglobin carries oxygen in red blood cells.  Low levels confirm the anemia and may explain symptoms like fatigue and shortness of breath. Again, the decline is worrisome.\n",
            "* **Smear Description:**  The presence of ovalocytes, hypochromasia (pale red blood cells), microcytosis (small red blood cells), and anisocytosis (variation in red blood cell size) further supports the diagnosis of anemia and suggests a possible issue with red blood cell production.  Further investigation is needed to determine the specific type of anemia (e.g., iron deficiency, thalassemia, etc.).\n",
            "* **Elevated Erythrocyte Sedimentation Rate (ESR) (46 mm/hr):**  A significantly elevated ESR indicates inflammation in the body.  This, coupled with other findings, suggests the anemia may be related to an underlying inflammatory condition.\n",
            "* **Elevated C-reactive Protein (CRP) (12.7 mg/liter):**  Like ESR, CRP is a marker of inflammation.  The high CRP further reinforces the presence of an active inflammatory process.\n",
            "* **Slightly Low Sodium (133 mmol/liter) and Chloride (98 mmol/liter):** These slightly low electrolyte levels could be due to various factors, including dehydration, certain medications, or underlying medical conditions.  They should be monitored.\n",
            "\n",
            "\n",
            "**Possible Diagnoses and Further Investigations:**\n",
            "\n",
            "Given these findings, further investigations are *absolutely necessary* to determine the underlying cause of the anemia and the inflammatory process.  Some possibilities include:\n",
            "\n",
            "* **Iron Deficiency Anemia:** This is a common type of anemia caused by insufficient iron. Further tests, such as serum iron, ferritin, and total iron-binding capacity (TIBC), are needed to confirm this diagnosis.\n",
            "* **Anemia of Chronic Disease:**  Certain chronic inflammatory conditions, such as rheumatoid arthritis, lupus, or inflammatory bowel disease, can lead to anemia.\n",
            "* **Thalassemia:** This is an inherited blood disorder that affects hemoglobin production.\n",
            "* **Autoimmune Hemolytic Anemia:** This occurs when the immune system mistakenly attacks and destroys red blood cells.\n",
            "* **Malignancy:**  While less likely given the available information, certain cancers can cause anemia and inflammation.\n",
            "\n",
            "**Next Steps:**\n",
            "\n",
            "It is *crucial* that the patient follow up with their physician immediately.  Further testing is required to pinpoint the cause of these abnormalities.  This might include:\n",
            "\n",
            "* **Complete Blood Count (CBC) with differential:** To monitor the progression of the anemia.\n",
            "* **Iron studies:**  To assess iron levels.\n",
            "* **Peripheral blood smear review by a hematologist:** To further evaluate the red blood cell morphology.\n",
            "* **Inflammatory marker monitoring (ESR, CRP):** To track the inflammatory process.\n",
            "* **Further investigations based on suspected underlying conditions:** This may include imaging studies, autoimmune tests, or bone marrow biopsy.\n",
            "\n",
            "\n",
            "This information is for educational purposes only and does not constitute medical advice.  It is essential for the patient to discuss these results with their healthcare provider for appropriate diagnosis and management.\n",
            " 🤒💊\n",
            "\n",
            "Do you have any more questions or symptoms to discuss? (yes/no): no\n",
            "Thank you for using the AI Doctor. Stay healthy! 😊👋\n"
          ]
        }
      ]
    }
  ]
}
